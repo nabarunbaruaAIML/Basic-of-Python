{
 "cells": [
  {
   "cell_type": "markdown",
   "metadata": {},
   "source": [
    "### 1.1 Write a Python Program(with class concepts) to find the area of the triangle using the below  formula. \n",
    "\n",
    "*area = (s*(s-a)*(s-b)*(s-c)) ** 0.5* \n",
    "\n",
    "Function to take the length of the sides of triangle from user should be defined in the parent  class and function to calculate the area should be defined in subclass. \n"
   ]
  },
  {
   "cell_type": "code",
   "execution_count": 21,
   "metadata": {},
   "outputs": [],
   "source": [
    "class Parent:\n",
    "    def __init__(self,side1,side2,side3):\n",
    "        self._side1 = side1\n",
    "        self._side2 = side2\n",
    "        self._side3 = side3\n",
    "        \n"
   ]
  },
  {
   "cell_type": "code",
   "execution_count": 22,
   "metadata": {},
   "outputs": [],
   "source": [
    "class Triangle(Parent):\n",
    "    def __init__(self,*args,**kwargs):\n",
    "        super(Triangle,self).__init__(*args,**kwargs)\n",
    "    def Area(self):\n",
    "        s = (self._side1+self._side2+self._side3)*0.5\n",
    "        a = (s*(s-self._side1)*(s-self._side2)*(s-self._side3))**0.5\n",
    "        return a\n",
    "    \n"
   ]
  },
  {
   "cell_type": "code",
   "execution_count": 29,
   "metadata": {},
   "outputs": [
    {
     "name": "stdout",
     "output_type": "stream",
     "text": [
      "Side 1: 20\n",
      "Side 2: 20\n",
      "Side 3: 30\n",
      "Area = 198.4313483298443\n"
     ]
    }
   ],
   "source": [
    "side1 = input('Side 1: ')\n",
    "side2 = input('Side 2: ')\n",
    "side3 = input('Side 3: ')\n",
    "t= Triangle(int(side1),int(side2),int(side3))\n",
    "a=t.Area()\n",
    "print('Area = {}'.format(a))"
   ]
  },
  {
   "cell_type": "markdown",
   "metadata": {},
   "source": [
    "### 1.2 Write a function filter_long_words() that takes a list of words and an integer n and returns  the list of words that are longer than n. "
   ]
  },
  {
   "cell_type": "code",
   "execution_count": 38,
   "metadata": {},
   "outputs": [
    {
     "data": {
      "text/plain": [
       "['aaaa', 'aaaaa']"
      ]
     },
     "execution_count": 38,
     "metadata": {},
     "output_type": "execute_result"
    }
   ],
   "source": [
    "def Find_Long(lst,num):\n",
    "    Long_lst=[i for i in lst if len(i) > num]\n",
    "    return Long_lst\n",
    "Find_Long(['a','aa','aaa','aaaa','aaaaa'],3)\n",
    "\n"
   ]
  },
  {
   "cell_type": "markdown",
   "metadata": {},
   "source": [
    "### 2.1 Write a Python program using function concept that maps list of words into a list of integers  representing the lengths of the corresponding words. \n",
    "Hint: If a list [ ab,cde,erty] is passed on to the python function output should come as [2,3,4] Here 2,3 and 4 are the lengths of the words in the list. "
   ]
  },
  {
   "cell_type": "code",
   "execution_count": 39,
   "metadata": {},
   "outputs": [
    {
     "name": "stdout",
     "output_type": "stream",
     "text": [
      "Length of List Items:  [2, 3, 4]\n"
     ]
    }
   ],
   "source": [
    "def leng(lst):\n",
    "    a=len(lst)  \n",
    "    return a\n",
    "\n",
    "a = list(map(leng,['ab', 'cde', 'erty']))\n",
    "\n",
    "print('Length of List Items: ',a)"
   ]
  },
  {
   "cell_type": "markdown",
   "metadata": {},
   "source": [
    "### 2.2 Write a Python function which takes a character (i.e. a string of length 1) and returns True if  it is a vowel, False otherwise. "
   ]
  },
  {
   "cell_type": "code",
   "execution_count": 47,
   "metadata": {},
   "outputs": [
    {
     "name": "stdout",
     "output_type": "stream",
     "text": [
      "Enter Letter: a\n",
      "Entered Leter is Vovel\n"
     ]
    }
   ],
   "source": [
    "def vovel(ch):\n",
    "    v=list('aeiouAEIOU')\n",
    "    if(ch in v):\n",
    "        return True\n",
    "    else:\n",
    "        return False\n",
    "letter = input('Enter Letter: ')    \n",
    "a = vovel(letter)\n",
    "\n",
    "if a:\n",
    "    print('Entered Leter is Vovel')\n",
    "else:\n",
    "    print('Entered Leter is not Vovel')\n",
    "    \n"
   ]
  },
  {
   "cell_type": "code",
   "execution_count": null,
   "metadata": {},
   "outputs": [],
   "source": []
  }
 ],
 "metadata": {
  "kernelspec": {
   "display_name": "Python 3.7 (tensorflow)",
   "language": "python",
   "name": "tensorflow"
  },
  "language_info": {
   "codemirror_mode": {
    "name": "ipython",
    "version": 3
   },
   "file_extension": ".py",
   "mimetype": "text/x-python",
   "name": "python",
   "nbconvert_exporter": "python",
   "pygments_lexer": "ipython3",
   "version": "3.7.9"
  }
 },
 "nbformat": 4,
 "nbformat_minor": 4
}
