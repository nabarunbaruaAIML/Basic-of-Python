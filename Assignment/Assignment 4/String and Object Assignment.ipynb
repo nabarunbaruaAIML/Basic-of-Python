{
 "cells": [
  {
   "cell_type": "markdown",
   "metadata": {},
   "source": [
    "### 1. Write a program which accepts a sequence of comma-separated numbers from console  and generate a list. "
   ]
  },
  {
   "cell_type": "code",
   "execution_count": 7,
   "metadata": {},
   "outputs": [
    {
     "name": "stdout",
     "output_type": "stream",
     "text": [
      "Enter Comma Seperated Number1,,2,3,\n"
     ]
    },
    {
     "data": {
      "text/plain": [
       "['1', '2', '3']"
      ]
     },
     "execution_count": 7,
     "metadata": {},
     "output_type": "execute_result"
    }
   ],
   "source": [
    "string = input(\"Enter Comma Seperated Number\")\n",
    "\n",
    "lst=string.split(',') \n",
    "lst1=[]\n",
    "for i in lst:\n",
    "    if i!='':\n",
    "        lst1.append(i)\n",
    "lst1"
   ]
  },
  {
   "cell_type": "markdown",
   "metadata": {},
   "source": [
    "### 1. Create the below pattern using nested for loop in Python. \n",
    "\n"
   ]
  },
  {
   "cell_type": "code",
   "execution_count": 13,
   "metadata": {},
   "outputs": [
    {
     "data": {
      "text/plain": [
       "'\\n* \\n*  * \\n*  *  * \\n*  *  *  * \\n*  *  *  *  * \\n*  *  *  * \\n*  *  * \\n*  * \\n* \\n'"
      ]
     },
     "execution_count": 13,
     "metadata": {},
     "output_type": "execute_result"
    }
   ],
   "source": [
    "\"\"\"\n",
    "* \n",
    "*  * \n",
    "*  *  * \n",
    "*  *  *  * \n",
    "*  *  *  *  * \n",
    "*  *  *  * \n",
    "*  *  * \n",
    "*  * \n",
    "* \n",
    "\"\"\""
   ]
  },
  {
   "cell_type": "code",
   "execution_count": 33,
   "metadata": {},
   "outputs": [
    {
     "name": "stdout",
     "output_type": "stream",
     "text": [
      "Enter a Number : 4\n",
      "*\n",
      "**\n",
      "***\n",
      "****\n",
      "***\n",
      "**\n",
      "*\n"
     ]
    }
   ],
   "source": [
    "Integer_Number = input(\"Enter a Number : \")\n",
    "Integer_Number = int(Integer_Number)\n",
    "lst = []\n",
    "for i in range(1,Integer_Number+1):\n",
    "    if (i!=Integer_Number):\n",
    "        lst.append(i)   \n",
    "    else:\n",
    "        for j in range(i,0,-1):\n",
    "            lst.append(j)\n",
    "            \n",
    "        \n",
    "for i in lst:\n",
    "    print('*'*i)\n",
    "    "
   ]
  },
  {
   "cell_type": "markdown",
   "metadata": {},
   "source": [
    "### 2. Write a Python program to reverse a word after accepting the input from the user. Sample Output: \n",
    "Input word: ineuron \n",
    "\n",
    "Output: norueni\n"
   ]
  },
  {
   "cell_type": "code",
   "execution_count": 38,
   "metadata": {},
   "outputs": [
    {
     "name": "stdout",
     "output_type": "stream",
     "text": [
      "Enter a Word : ineuron\n",
      "norueni\n"
     ]
    }
   ],
   "source": [
    "string = input(\"Enter a Word : \")\n",
    "print(string[::-1])"
   ]
  },
  {
   "cell_type": "code",
   "execution_count": null,
   "metadata": {},
   "outputs": [],
   "source": []
  }
 ],
 "metadata": {
  "kernelspec": {
   "display_name": "Python 3.7 (tensorflow)",
   "language": "python",
   "name": "tensorflow"
  },
  "language_info": {
   "codemirror_mode": {
    "name": "ipython",
    "version": 3
   },
   "file_extension": ".py",
   "mimetype": "text/x-python",
   "name": "python",
   "nbconvert_exporter": "python",
   "pygments_lexer": "ipython3",
   "version": "3.7.9"
  }
 },
 "nbformat": 4,
 "nbformat_minor": 4
}
