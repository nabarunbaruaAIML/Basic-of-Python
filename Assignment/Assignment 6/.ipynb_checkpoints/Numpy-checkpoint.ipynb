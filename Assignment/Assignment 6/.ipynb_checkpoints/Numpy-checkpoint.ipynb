{
 "cells": [
  {
   "cell_type": "markdown",
   "metadata": {},
   "source": [
    "### Problem Statement 2:\n",
    "Given a sequence of n values x1, x2, ..., xn and a window size k>0, the k-th moving average of\n",
    "the given sequence is defined as follows:\n",
    "The moving average sequence has n-k+1 elements as shown below.\n",
    "The moving averages with k=4 of a ten-value sequence (n=10) is shown below\n",
    "i 1 2 3 4 5 6 7 8 9 10\n",
    "===== == == == == == == == == == ==\n",
    "Input 10 20 30 40 50 60 70 80 90 100\n",
    "y1 25 = (10+20+30+40)/4\n",
    "y2 35 = (20+30+40+50)/4\n",
    "y3 45 = (30+40+50+60)/4\n",
    "y4 55 = (40+50+60+70)/4\n",
    "y5 65 = (50+60+70+80)/4\n",
    "y6 75 = (60+70+80+90)/4\n",
    "y7 85 = (70+80+90+100)/4\n",
    "Thus, the moving average sequence has n-k+1=10-4+1=7 values."
   ]
  },
  {
   "cell_type": "code",
   "execution_count": 1,
   "metadata": {},
   "outputs": [
    {
     "name": "stdout",
     "output_type": "stream",
     "text": [
      "Input Number Numpy Array in Comma-Separated Values: 10,20,30,40,50,60,70,80,90,100\n",
      "Enter a Integer Number for Moving Average : 4\n",
      "[25. 35. 45. 55. 65. 75. 85.]\n"
     ]
    }
   ],
   "source": [
    "import numpy as np\n",
    "def moving_average(arr,k):\n",
    "    return np.sum(arr)/k\n",
    "    \n",
    "N = input('Input Number Numpy Array in Comma-Separated Values: ')\n",
    "K= input('Enter a Integer Number for Moving Average : ')\n",
    "try:\n",
    "    K= int(K)\n",
    "    N = N.split(',')\n",
    "    N = [int(i) for i in N if i!='']\n",
    "    N = np.array(N,dtype=int)\n",
    "except:print('Exception Occured Either of the Input are not a valid Number')\n",
    "else:\n",
    "    \n",
    "    Nlen = len(N)\n",
    "    count = Nlen-K+1\n",
    "    WindowStart = 0\n",
    "    WindowEnd = K \n",
    "    counter = 0 \n",
    "    NewArray = np.empty(count)\n",
    "    \n",
    "#     print(NewArray)\n",
    "    while(WindowStart != (count)) :\n",
    "        avg = moving_average(N[WindowStart:WindowEnd] ,K)\n",
    "        NewArray[WindowStart+counter] = avg\n",
    "        WindowStart +=1 \n",
    "        WindowEnd +=1 \n",
    "    print(NewArray)\n",
    "        \n",
    "    \n",
    "# count"
   ]
  },
  {
   "cell_type": "markdown",
   "metadata": {},
   "source": [
    "### Problem Statement 1: \n",
    "Write a function so that the columns of the output matrix are powers of the input vector. \n",
    "The order of the powers is determined by the increasing boolean argument. Specifically, when  increasing is False, the i-th output column is the input vector raised element-wise to the power  of N - i - 1. \n",
    "HINT: Such a matrix with a geometric progression in each row is named for Alexandre Theophile Vandermonde. \n"
   ]
  },
  {
   "cell_type": "code",
   "execution_count": 2,
   "metadata": {},
   "outputs": [
    {
     "data": {
      "text/plain": [
       "array([[  1,   1,   1,   1],\n",
       "       [  8,   4,   2,   1],\n",
       "       [ 64,  16,   4,   1],\n",
       "       [216,  36,   6,   1]], dtype=int32)"
      ]
     },
     "execution_count": 2,
     "metadata": {},
     "output_type": "execute_result"
    }
   ],
   "source": [
    "\n",
    "arr = np.array ([1,2,4,6])\n",
    "rang=4\n",
    "\n",
    "\n",
    "np.column_stack([arr**(rang-1-i) for i in range(rang)])\n"
   ]
  },
  {
   "cell_type": "code",
   "execution_count": null,
   "metadata": {},
   "outputs": [],
   "source": []
  }
 ],
 "metadata": {
  "kernelspec": {
   "display_name": "Python 3.7 (tensorflow)",
   "language": "python",
   "name": "tensorflow"
  },
  "language_info": {
   "codemirror_mode": {
    "name": "ipython",
    "version": 3
   },
   "file_extension": ".py",
   "mimetype": "text/x-python",
   "name": "python",
   "nbconvert_exporter": "python",
   "pygments_lexer": "ipython3",
   "version": "3.7.9"
  }
 },
 "nbformat": 4,
 "nbformat_minor": 4
}
